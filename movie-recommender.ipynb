{
 "cells": [
  {
   "cell_type": "code",
   "execution_count": 1,
   "id": "3853c37d",
   "metadata": {},
   "outputs": [],
   "source": [
    "import numpy as np\n",
    "import pandas as pd"
   ]
  },
  {
   "cell_type": "markdown",
   "id": "8445ace6",
   "metadata": {},
   "source": [
    "<h3>Get list of users, movies and ratings</h3>"
   ]
  },
  {
   "cell_type": "code",
   "execution_count": 2,
   "id": "6d059103",
   "metadata": {},
   "outputs": [],
   "source": [
    "# Get list of users, movies and ratings\n",
    "users = []\n",
    "movies = []\n",
    "ratings = []\n",
    "\n",
    "with open('ids.txt', 'r') as f:\n",
    "    users = [sid.replace('\\n', '') for sid in f.readlines()]\n",
    "    \n",
    "with open('movies.txt', 'r') as f:\n",
    "    movies = [name.replace('\\n', '') for name in f.readlines()]\n",
    "    \n",
    "with open('ratings.txt', 'r') as f:\n",
    "    for line in f.readlines():\n",
    "        ratings.append(line.replace('\\n', '').split(' '))\n",
    "    \n",
    "ratings = np.array(ratings)"
   ]
  },
  {
   "cell_type": "markdown",
   "id": "883c1ebf",
   "metadata": {},
   "source": [
    "<h3>Sort movies on mean popularity rating</h3>"
   ]
  },
  {
   "cell_type": "code",
   "execution_count": 3,
   "id": "411ba3f3",
   "metadata": {},
   "outputs": [
    {
     "name": "stdout",
     "output_type": "stream",
     "text": [
      "['Chappaquidick', 'The_Last_Airbender', 'I_Feel_Pretty', 'Fifty_Shades_of_Grey', 'Fast_&_Furious:_Hobbs_&_Shaw', 'Hustlers', 'Magic_Mike', 'Bridemaids', 'World_War_Z', 'The_Shape_of_Water', 'Good_Boys', 'Prometheus', 'Pokemon_Detective_Pikachu', 'American_Hustle', 'Terminator:_Dark_Fate', 'The_Farewell', 'Man_of_Steel', 'Fast_Five', 'The_Hateful_Eight', 'Star_Wars:_The_Force_Awakens', 'Rocketman', 'The_Help', 'Drive', 'The_Girls_with_the_Dragon_Tattoo', 'Thor', 'Avengers:_Age_of_Ultron', 'Phantom_Thread', 'Us', 'The_Revenant', 'X-Men:_First_Class', 'Pitch_Perfect', 'Dunkirk', 'Ready_Player_One', 'Room', 'Jurassic_World', 'Mad_Max:_Fury_Road', 'Once_Upon_a_Time_in_Hollywood', 'Manchester_by_the_Sea', 'The_Perks_of_Being_a_Wallflower', 'Spiderman:_Far_From_Home', 'Her', 'Captain_America:_The_First_Avenger', 'Frozen', 'Hidden_Figures', 'The_Hunger_Games', 'Iron_Man_2', 'Les_Miserables', 'Toy_Story_3', 'Three_Billboards_Outside_Ebbing', 'Darkest_Hour', 'Ex_Machina', 'Gone_Girl', 'Black_Swan', '12_Years_a_Slave', 'Avengers:_Endgame', 'The_Avengers', 'Midnight_in_Paris', 'The_Great_Gatsby', 'La_La_Land', 'Avengers:_Infinity_War', 'The_Theory_of_Everything', 'Now_You_See_Me', '21_Jump_Street', 'Django_Unchained', 'The_Martian', 'Harry_Potter_and_the_Deathly_Hallows:_Part_1', 'Joker', 'Wolf_of_Wall_Street', 'The_Lion_King', 'Harry_Potter_and_the_Deathly_Hallows:_Part_2', 'Parasite', 'The_Social_Network', 'The_Dark_Knight_Rises', 'Shutter_Island', 'Interstellar', 'Inception']\n"
     ]
    }
   ],
   "source": [
    "# Sort movies on mean popularity rating\n",
    "meanPop = []\n",
    "for i in range(0,len(movies)):\n",
    "    pop = np.sum((ratings[:,i] == '1').astype(int))/np.sum((ratings[:,i] != '?').astype(int))\n",
    "    meanPop.append((pop, movies[i]))\n",
    "    \n",
    "meanPop.sort()\n",
    "print([name[1] for name in meanPop])"
   ]
  },
  {
   "cell_type": "markdown",
   "id": "6bbb6e9b",
   "metadata": {},
   "source": [
    "<h3>Expectation Maximization</h3>"
   ]
  },
  {
   "cell_type": "code",
   "execution_count": 4,
   "id": "cdbf6c7b",
   "metadata": {},
   "outputs": [],
   "source": [
    "# Part E\n",
    "\n",
    "# Function to compute log-likelihood\n",
    "def LogLikelihood(T, K, N, ratings, pRGivenZ, pZ):\n",
    "    likelihood = 0.0\n",
    "    \n",
    "    for t in range(0, T):\n",
    "        prob = 0.0\n",
    "        for i in range(0, K):\n",
    "            prod = 1.0\n",
    "            for j in range(0, N):\n",
    "                if(ratings[t, j] == '1'):\n",
    "                    prod *= pRGivenZ[i, j]\n",
    "                elif(ratings[t, j] == '0'):\n",
    "                    prod *= (1 - pRGivenZ[i, j])\n",
    "                    \n",
    "            prob += prod*pZ[i]\n",
    "            \n",
    "        likelihood += np.log(prob)\n",
    "        \n",
    "    likelihood /= T\n",
    "    \n",
    "    return likelihood\n",
    "    \n",
    "# Function to perform EMUpdate\n",
    "def EMUpdate(K, T, N, ratings, pRGivenZ, pZ):\n",
    "    rho = np.zeros((K, T))\n",
    "    \n",
    "    for i in range(0, K):\n",
    "        for t in range(0, T):\n",
    "            prod = 1.0\n",
    "            for j in range(0, N):\n",
    "                if(ratings[t, j] == '1'):\n",
    "                    prod *= pRGivenZ[i, j]\n",
    "                elif(ratings[t, j] == '0'):\n",
    "                    prod *= (1 - pRGivenZ[i, j])\n",
    "                    \n",
    "            rho[i, t] = prod*pZ[i]\n",
    "        \n",
    "    rho /= np.sum(rho, axis=0)\n",
    "    \n",
    "    pZ = np.sum(rho, axis=1)/T\n",
    "    \n",
    "    for i in range(0, K):\n",
    "        for j in range(0, N):\n",
    "            numer = 0.0\n",
    "            for t in range(0, T):\n",
    "                if(ratings[t, j] == '1'):\n",
    "                    numer += rho[i, t]\n",
    "                elif(ratings[t, j] == '?'):\n",
    "                    numer += pRGivenZ[i, j]*rho[i, t]\n",
    "                    \n",
    "            pRGivenZ[i, j] = numer/np.sum(rho[i,:])\n",
    "            \n",
    "    return pZ, pRGivenZ"
   ]
  },
  {
   "cell_type": "code",
   "execution_count": 5,
   "id": "590a410f",
   "metadata": {},
   "outputs": [
    {
     "name": "stdout",
     "output_type": "stream",
     "text": [
      "Iteration  0  Log-likelhood =  -28.627324487337628\n",
      "Iteration  1  Log-likelhood =  -19.350314946503318\n",
      "Iteration  2  Log-likelhood =  -17.909564818017916\n",
      "Iteration  4  Log-likelhood =  -17.081155562337013\n",
      "Iteration  8  Log-likelhood =  -16.629824767528117\n",
      "Iteration  16  Log-likelhood =  -16.28782872191562\n",
      "Iteration  32  Log-likelhood =  -15.801537953970273\n",
      "Iteration  64  Log-likelhood =  -15.749887678844292\n",
      "Iteration  128  Log-likelhood =  -15.735940712575662\n",
      "Iteration  256  Log-likelhood =  -15.728520329683299\n"
     ]
    }
   ],
   "source": [
    "# Initialize P(Z) and P(R|Z)\n",
    "pZ = []\n",
    "pRGivenZ = []\n",
    "\n",
    "with open('hw8_probZ_init.txt', 'r') as f:\n",
    "    pZ = [float(val) for val in f.readlines()]\n",
    "    \n",
    "pZ = np.array(pZ)\n",
    "    \n",
    "with open('hw8_probR_init.txt', 'r') as f:\n",
    "    lines = f.readlines()\n",
    "    for line in lines:\n",
    "        pRGivenZ.append([float(val) for val in line.split(' ') if val != ''])\n",
    "    \n",
    "pRGivenZ = np.transpose(np.array(pRGivenZ))\n",
    "\n",
    "# Initialize number of users, movies, iterations and types of movie goers\n",
    "iterations = 256\n",
    "T = len(users)\n",
    "K = len(pZ)\n",
    "N = len(pRGivenZ[0])\n",
    "\n",
    "# Print log likelihood and perform EM Update\n",
    "for itr in range(iterations+1):\n",
    "    if(itr==0 or np.power(2, int(np.log2(itr))) == itr):\n",
    "        ll = LogLikelihood(T, K, N, ratings, pRGivenZ, pZ)\n",
    "        print(\"Iteration \", itr, \" Log-likelhood = \", ll)\n",
    "    pZ, pRGivenZ = EMUpdate(K, T, N, ratings, pRGivenZ, pZ)"
   ]
  },
  {
   "cell_type": "markdown",
   "id": "a49d91dd",
   "metadata": {},
   "source": [
    "<h3>Personal recommendation</h3>"
   ]
  },
  {
   "cell_type": "code",
   "execution_count": 6,
   "id": "19a39966",
   "metadata": {},
   "outputs": [
    {
     "name": "stdout",
     "output_type": "stream",
     "text": [
      "                                name     score\n",
      "0                           Parasite  0.868957\n",
      "1                         La_La_Land  0.793830\n",
      "2                             Frozen  0.760267\n",
      "3                   Ready_Player_One  0.757193\n",
      "4                   Django_Unchained  0.752938\n",
      "5                     21_Jump_Street  0.751170\n",
      "6                  Midnight_in_Paris  0.725048\n",
      "7                   The_Great_Gatsby  0.715400\n",
      "8                         Black_Swan  0.692148\n",
      "9                               Room  0.684863\n",
      "10                    Hidden_Figures  0.676849\n",
      "11                      Darkest_Hour  0.673471\n",
      "12                  12_Years_a_Slave  0.668835\n",
      "13         Pokemon_Detective_Pikachu  0.644331\n",
      "14                    Les_Miserables  0.625264\n",
      "15                    Phantom_Thread  0.603146\n",
      "16                     Pitch_Perfect  0.598900\n",
      "17   Three_Billboards_Outside_Ebbing  0.590423\n",
      "18                         Rocketman  0.579052\n",
      "19                                Us  0.572354\n",
      "20                          The_Help  0.571179\n",
      "21             Manchester_by_the_Sea  0.548702\n",
      "22                Mad_Max:_Fury_Road  0.548465\n",
      "23     Once_Upon_a_Time_in_Hollywood  0.540396\n",
      "24                           Dunkirk  0.539244\n",
      "25                               Her  0.529423\n",
      "26  The_Girls_with_the_Dragon_Tattoo  0.493689\n",
      "27             Terminator:_Dark_Fate  0.475126\n",
      "28                The_Shape_of_Water  0.461854\n",
      "29                The_Last_Airbender  0.457509\n",
      "30                             Drive  0.439722\n",
      "31              Fifty_Shades_of_Grey  0.434919\n",
      "32                        Magic_Mike  0.425444\n",
      "33                      The_Farewell  0.416342\n",
      "34                   American_Hustle  0.375991\n",
      "35                         Good_Boys  0.372371\n",
      "36                        Bridemaids  0.356023\n",
      "37                 The_Hateful_Eight  0.320158\n",
      "38                          Hustlers  0.293004\n",
      "39                     I_Feel_Pretty  0.263872\n",
      "40                     Chappaquidick  0.200920\n"
     ]
    }
   ],
   "source": [
    "# Part F\n",
    "myId = users.index('A59018415')\n",
    "myRatings = ratings[myId]\n",
    "\n",
    "postProb = []\n",
    "for i in range(0, K):\n",
    "    prod = 1.0\n",
    "    for j in range(0, N):\n",
    "        if(myRatings[j] == '1'):\n",
    "            prod *= pRGivenZ[i, j]\n",
    "        elif(myRatings[j] == '0'):\n",
    "            prod *= (1 - pRGivenZ[i, j])\n",
    "            \n",
    "    postProb.append(pZ[i]*prod)\n",
    "\n",
    "postProb /= np.sum(postProb)\n",
    "    \n",
    "unseenMovieScores = []\n",
    "for l in range(0, N):\n",
    "    if(myRatings[l] == '?'):\n",
    "        score = 0.0\n",
    "        for i in range(0, K):\n",
    "            score += pRGivenZ[i, l]*postProb[i]\n",
    "            \n",
    "        unseenMovieScores.append((score, movies[l]))\n",
    "        \n",
    "unseenMovieScores.sort(reverse=True)\n",
    "\n",
    "df = pd.DataFrame()\n",
    "df['name'] = [x[1] for x in unseenMovieScores]\n",
    "df['score'] = [x[0] for x in unseenMovieScores]\n",
    "\n",
    "print(df)"
   ]
  },
  {
   "cell_type": "code",
   "execution_count": null,
   "id": "b120494f",
   "metadata": {},
   "outputs": [],
   "source": []
  }
 ],
 "metadata": {
  "kernelspec": {
   "display_name": "Python 3 (ipykernel)",
   "language": "python",
   "name": "python3"
  },
  "language_info": {
   "codemirror_mode": {
    "name": "ipython",
    "version": 3
   },
   "file_extension": ".py",
   "mimetype": "text/x-python",
   "name": "python",
   "nbconvert_exporter": "python",
   "pygments_lexer": "ipython3",
   "version": "3.9.5"
  }
 },
 "nbformat": 4,
 "nbformat_minor": 5
}
